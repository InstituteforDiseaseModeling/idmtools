{
 "cells": [
  {
   "cell_type": "code",
   "execution_count": 1,
   "metadata": {},
   "outputs": [
    {
     "name": "stdout",
     "output_type": "stream",
     "text": [
      "You are using a development version of idmtools, version 1.5.1+nightly.0!\n",
      "INI File Used: /home/clinton/development/work/idmtools/examples/idmtools.ini\n",
      "\n",
      "[BELEGOST]\n",
      "{\n",
      "   \"type\": \"COMPS\",\n",
      "   \"endpoint\": \"https://comps2.idmod.org\",\n",
      "   \"environment\": \"Bayesian\"\n",
      "}\n",
      "\n",
      "User Login:\n",
      "{\n",
      "   \"endpoint\": \"https://comps2.idmod.org\",\n",
      "   \"environment\": \"Bayesian\"\n",
      "}\n",
      "\n",
      "The created experiment can be viewed at https://comps2.idmod.org/#explore/Simulations?filters=ExperimentId=c4d826bb-6e13-eb11-a2c2-f0921c167862\n",
      "Simulations are still being created\n",
      "\n"
     ]
    },
    {
     "name": "stderr",
     "output_type": "stream",
     "text": [
      "Creating Simulations on Comps: 100%|██████████| 9/9 [00:00<00:00, 28.83simulation/s] \n",
      "Waiting on Experiment to Finish running:   0%|          | 0/9 [00:00<?, ?simulation/s]\u001b[A\n",
      "Waiting on Experiment to Finish running:  11%|█         | 1/9 [13:41<1:49:29, 821.20s/simulation]\u001b[A\n",
      "Waiting on Experiment to Finish running: 100%|██████████| 9/9 [13:46<00:00, 575.03s/simulation]  \u001b[A"
     ]
    }
   ],
   "source": [
    "import os\n",
    "from idmtools.builders import SimulationBuilder\n",
    "from idmtools.core.platform_factory import Platform\n",
    "from idmtools.entities.experiment import Experiment\n",
    "from idmtools.entities.templated_simulation import TemplatedSimulations\n",
    "from idmtools_models.python.json_python_task import JSONConfiguredPythonTask\n",
    "current_dir = os.getcwd()\n",
    "task = JSONConfiguredPythonTask(script_path=os.path.join(\"python_model_with_deps\", \"Assets\", \"model.py\"),\n",
    "                                parameters=(dict(c=0)))\n",
    "ts = TemplatedSimulations(base_task=task)\n",
    "builder = SimulationBuilder()\n",
    "builder.add_sweep_definition(task.set_parameter_partial(\"a\"), range(3))\n",
    "builder.add_sweep_definition(task.set_parameter_partial(\"b\"), [1, 2, 3])\n",
    "ts.add_builder(builder)\n",
    "experiment = Experiment.from_template(ts, name=\"Provision from Notebook\")\n",
    "with Platform('BELEGOST'):\n",
    "    experiment.run(wait_on_done=True)"
   ]
  },
  {
   "cell_type": "code",
   "execution_count": null,
   "metadata": {
    "pycharm": {
     "name": "#%%\n"
    }
   },
   "outputs": [],
   "source": []
  },
  {
   "cell_type": "code",
   "execution_count": null,
   "metadata": {},
   "outputs": [],
   "source": []
  }
 ],
 "metadata": {
  "kernelspec": {
   "display_name": "Python 3",
   "language": "python",
   "name": "python3"
  },
  "language_info": {
   "codemirror_mode": {
    "name": "ipython",
    "version": 3
   },
   "file_extension": ".py",
   "mimetype": "text/x-python",
   "name": "python",
   "nbconvert_exporter": "python",
   "pygments_lexer": "ipython3",
   "version": "3.8.5"
  }
 },
 "nbformat": 4,
 "nbformat_minor": 1
}
