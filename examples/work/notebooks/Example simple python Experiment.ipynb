{
 "cells": [
  {
   "cell_type": "markdown",
   "metadata": {},
   "source": [
    "# Example Python Experiment\n",
    "\n",
    "In this example, we will demonstrate how to run a python experiment."
   ]
  },
  {
   "cell_type": "markdown",
   "metadata": {},
   "source": [
    "First, we import some constants."
   ]
  },
  {
   "cell_type": "code",
   "execution_count": 1,
   "metadata": {},
   "outputs": [],
   "source": [
    "import constants"
   ]
  },
  {
   "cell_type": "markdown",
   "metadata": {},
   "source": [
    "Now imports some system and idmtools packages.\n",
    "- ExperimentBuilder: To create sweeps\n",
    "- ExperimentManager: To manage our experiment\n",
    "- LocalPlatform: We will run locally\n",
    "- PythonExperiment: We want to run an experiment executing a Python script"
   ]
  },
  {
   "cell_type": "code",
   "execution_count": 12,
   "metadata": {},
   "outputs": [],
   "source": [
    "import os\n",
    "from functools import partial\n",
    "\n",
    "from idmtools.entities import ExperimentBuilder\n",
    "from idmtools.managers import ExperimentManager\n",
    "from idmtools.platforms import LocalPlatform\n",
    "from idmtools_models.python.PythonExperiment import PythonExperiment"
   ]
  },
  {
   "cell_type": "markdown",
   "metadata": {},
   "source": [
    "To create sweeps, we need to define a function that takes a `simulation` as the first argument and a `value` for a parameter that we want to vary.\n",
    "Let's assume we want to run simulations with `Run_Number` 0,1 and 2.\n",
    "We could create the following function:"
   ]
  },
  {
   "cell_type": "markdown",
   "metadata": {},
   "source": [
    "Note that the function needs to return a dictionary containing the tags that will be associated with the simulation.\n",
    "The tags are a convenient way to identify which parameter we set in the simulation."
   ]
  },
  {
   "cell_type": "code",
   "execution_count": 3,
   "metadata": {},
   "outputs": [],
   "source": [
    "def set_run_number(simulation, run_number):\n",
    "    # Set the Run_Number in the simulation\n",
    "    simulation.set_parameter(\"Run_Number\", run_number)\n",
    "    # Return a tag to identify it\n",
    "    return {\"Run_Number\": run_number}"
   ]
  },
  {
   "cell_type": "markdown",
   "metadata": {},
   "source": [
    "Now let's create an experiment. We want an experiment running Python so we will create a `PythonExperiment`.\n",
    "This type of experiment takes:\n",
    "- `name`: The name of the experiment\n",
    "- `model_path`: The path to the python file containing the model\n",
    "For this example, we will use the model defined in `inputs/simple_python/model.py`. The content of this file is displayed below:\n",
    "\n",
    "```python\n",
    "import json\n",
    "\n",
    "if __name__ == \"__main__\":\n",
    "\n",
    "    with open(\"config.json\", 'r') as fp:\n",
    "        config = json.load(fp)\n",
    "        run_number = config[\"parameters\"][\"Run_Number\"]\n",
    "\n",
    "    print(f\"Simulation running with Run_Number = {run_number}\")\n",
    "```\n"
   ]
  },
  {
   "cell_type": "code",
   "execution_count": 8,
   "metadata": {},
   "outputs": [],
   "source": [
    "experiment = PythonExperiment(name=\"My First experiment\", model_path=os.path.join(constants.INPUTS_DIR, \"simple_python\", \"model.py\"))"
   ]
  },
  {
   "cell_type": "markdown",
   "metadata": {},
   "source": [
    "Now that the experiment is created, we can add sweeps to it:"
   ]
  },
  {
   "cell_type": "code",
   "execution_count": 9,
   "metadata": {},
   "outputs": [],
   "source": [
    "builder = ExperimentBuilder()\n",
    "builder.add_sweep_definition(set_run_number, [1,2,3])\n",
    "\n",
    "experiment.builder = builder"
   ]
  },
  {
   "cell_type": "markdown",
   "metadata": {},
   "source": [
    "In order to run the experiment, we need to create a `Platform` and an `ExperimentManager`.\n",
    "The `Platform` defines where we want to run our simulation. `LocalPlatform` used here will run the simulations on your local machine."
   ]
  },
  {
   "cell_type": "code",
   "execution_count": 10,
   "metadata": {},
   "outputs": [],
   "source": [
    "platform = LocalPlatform()\n",
    "\n",
    "em = ExperimentManager(experiment=experiment, platform=platform)"
   ]
  },
  {
   "cell_type": "markdown",
   "metadata": {},
   "source": [
    "The last step is to call `run()` on the `ExperimentManager` to run the simulations."
   ]
  },
  {
   "cell_type": "code",
   "execution_count": 11,
   "metadata": {},
   "outputs": [
    {
     "name": "stdout",
     "output_type": "stream",
     "text": [
      "<Experiment: Q9OXJ - My First experiment / Sim count 3>\n",
      "<Simulation: 038UR - Exp_id: Q9OXJ>\n",
      "{'Run_Number': 1}\n",
      "<Simulation: LT5S3 - Exp_id: Q9OXJ>\n",
      "{'Run_Number': 2}\n",
      "<Simulation: BJARW - Exp_id: Q9OXJ>\n",
      "{'Run_Number': 3}\n"
     ]
    }
   ],
   "source": [
    "em.run()"
   ]
  },
  {
   "cell_type": "code",
   "execution_count": null,
   "metadata": {},
   "outputs": [],
   "source": []
  }
 ],
 "metadata": {
  "kernelspec": {
   "display_name": "Python 3",
   "language": "python",
   "name": "python3"
  },
  "language_info": {
   "codemirror_mode": {
    "name": "ipython",
    "version": 3
   },
   "file_extension": ".py",
   "mimetype": "text/x-python",
   "name": "python",
   "nbconvert_exporter": "python",
   "pygments_lexer": "ipython3",
   "version": "3.7.3"
  }
 },
 "nbformat": 4,
 "nbformat_minor": 2
}
