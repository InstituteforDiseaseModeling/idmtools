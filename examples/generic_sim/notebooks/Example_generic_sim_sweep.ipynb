{
 "cells": [
  {
   "cell_type": "markdown",
   "metadata": {},
   "source": [
    "# Example Generic Sim Sweep\n",
    "\n",
    "In this example, we will demonstrate how to run a generic sim sweep for EMOD."
   ]
  },
  {
   "cell_type": "markdown",
   "metadata": {},
   "source": [
    "First, we need to import the necessary modules classes."
   ]
  },
  {
   "cell_type": "code",
   "execution_count": null,
   "metadata": {},
   "outputs": [],
   "source": [
    "import os\n",
    "from functools import partial\n",
    "\n",
    "from config_update_parameters import config_update_params\n",
    "\n",
    "from idmtools.builders import ExperimentBuilder, StandAloneSimulationsBuilder\n",
    "from idmtools.core import ItemType\n",
    "from idmtools.core.platform_factory import Platform\n",
    "from idmtools.managers import ExperimentManager\n",
    "from idmtools_model_emod import EMODExperiment\n",
    "from idmtools_model_emod.defaults import EMODSir\n",
    "from idmtools_model_emod.generic.serialization import add_serialization_timesteps, load_serialized_population\n",
    "from idmtools_test import COMMON_INPUT_PATH\n",
    "from idmtools_test.utils.comps import sims_from_experiment, get_simulation_path"
   ]
  },
  {
   "cell_type": "markdown",
   "metadata": {},
   "source": [
    "And set some paths."
   ]
  },
  {
   "cell_type": "code",
   "execution_count": null,
   "metadata": {},
   "outputs": [],
   "source": [
    "current_directory = os.path.dirname(os.path.realpath(__file__))\n",
    "BIN_PATH = os.path.join(current_directory, \"bin\")\n",
    "INPUT_PATH = os.path.join(current_directory, \"inputs\")\n",
    "\n",
    "sim_duration = 10  # in years\n",
    "num_seeds = 5"
   ]
  },
  {
   "cell_type": "markdown",
   "metadata": {},
   "source": [
    "Update our parameters."
   ]
  },
  {
   "cell_type": "code",
   "execution_count": null,
   "metadata": {},
   "outputs": [],
   "source": [
    "def param_update(simulation, param, value):\n",
    "    return simulation.set_parameter(param, value)"
   ]
  },
  {
   "cell_type": "markdown",
   "metadata": {},
   "source": [
    "\n",
    "In order to run the experiment, we need to create a Platform and an ExperimentManager. The Platform defines where we want to run our simulation. LocalPlatform used here will run the simulations on your local machine."
   ]
  },
  {
   "cell_type": "code",
   "execution_count": null,
   "metadata": {},
   "outputs": [],
   "source": [
    "platform = Platform('COMPS')"
   ]
  },
  {
   "cell_type": "code",
   "execution_count": null,
   "metadata": {},
   "outputs": [],
   "source": [
    "sim_duration = 2  # in years\n",
    "num_seeds = 1\n",
    "\n",
    "expname = 'Generic EMOD experiment with param sweeps'\n",
    "e1 = EMODExperiment.from_default(expname, default=EMODSir(),\n",
    "                                     eradication_path=os.path.join(BIN_PATH, \"Eradication.exe\"))\n",
    "\n",
    "simulation = e1.base_simulation"
   ]
  },
  {
   "cell_type": "markdown",
   "metadata": {},
   "source": [
    "Update config parameters that you need to update:"
   ]
  },
  {
   "cell_type": "code",
   "execution_count": null,
   "metadata": {},
   "outputs": [],
   "source": [
    "sim = config_update_params(simulation)\n",
    "timesteps = [sim_duration * 365]\n",
    "add_serialization_timesteps(simulation=sim, timesteps=[sim_duration * 365],\n",
    "                                end_at_final=False, use_absolute_times=False)\n",
    "\n",
    "start_day = sim.get_parameter(\"Start_Time\")\n",
    "last_serialization_day = sorted(timesteps)[-1]\n",
    "end_day = start_day + last_serialization_day\n",
    "sim.set_parameter(\"Simulation_Duration\", end_day)"
   ]
  },
  {
   "cell_type": "markdown",
   "metadata": {},
   "source": [
    "Now add your sweeps:"
   ]
  },
  {
   "cell_type": "code",
   "execution_count": null,
   "metadata": {},
   "outputs": [],
   "source": [
    "# Sweep parameters\n",
    "builder = ExperimentBuilder()\n",
    "set_Run_Number = partial(param_update, param=\"Run_Number\")\n",
    "builder.add_sweep_definition(set_Run_Number, range(num_seeds))\n",
    "e1.tags = {'idmtools': 'generic EMOD experiment with param sweeps'}\n",
    "set_x_Temporary_Larval_Habitat = partial(param_update, param=\"x_Temporary_Larval_Habitat\")\n",
    "builder.add_sweep_definition(set_x_Temporary_Larval_Habitat, [0.1, 0.2])"
   ]
  },
  {
   "cell_type": "markdown",
   "metadata": {},
   "source": [
    "Add simulation tags:"
   ]
  },
  {
   "cell_type": "code",
   "execution_count": null,
   "metadata": {},
   "outputs": [],
   "source": [
    "# Add simulation tags\n",
    "e1.base_simulation.tags = {'add_base_sim_tag': 'my_tag'}\n",
    "# another way to add custom simulation tags with add_sweep_definition\n",
    "set_tag = partial(param_update, param=\"test_tag\")\n",
    "builder.add_sweep_definition(set_tag, \"abcd\")"
   ]
  },
  {
   "cell_type": "markdown",
   "metadata": {},
   "source": [
    "The last step is to call `run()` on the `ExperimentManager` to run the simulations."
   ]
  },
  {
   "cell_type": "code",
   "execution_count": null,
   "metadata": {},
   "outputs": [],
   "source": [
    "    e1.builder = builder\n",
    "    em = ExperimentManager(experiment=e1, platform=platform)\n",
    "    em.run()\n",
    "    em.wait_till_done()"
   ]
  }
 ],
 "metadata": {
  "kernelspec": {
   "display_name": "Python 2",
   "language": "python",
   "name": "python2"
  },
  "language_info": {
   "codemirror_mode": {
    "name": "ipython",
    "version": 2
   },
   "file_extension": ".py",
   "mimetype": "text/x-python",
   "name": "python",
   "nbconvert_exporter": "python",
   "pygments_lexer": "ipython2",
   "version": "2.7.6"
  }
 },
 "nbformat": 4,
 "nbformat_minor": 0
}
